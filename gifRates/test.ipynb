{
 "cells": [
  {
   "cell_type": "code",
   "execution_count": 1,
   "metadata": {},
   "outputs": [
    {
     "name": "stderr",
     "output_type": "stream",
     "text": [
      "/eos/user/s/shsong/Miniconda3/envs/higgsdna/lib/python3.9/site-packages/awkward/_cpu_kernels.py:7: DeprecationWarning: pkg_resources is deprecated as an API. See https://setuptools.pypa.io/en/latest/pkg_resources.html\n",
      "  import pkg_resources\n"
     ]
    }
   ],
   "source": [
    "import awkward as ak"
   ]
  },
  {
   "cell_type": "code",
   "execution_count": 2,
   "metadata": {},
   "outputs": [
    {
     "name": "stdout",
     "output_type": "stream",
     "text": [
      "[9.44e+04, 6.91e+04, 3.43e+05, 2.84e+05, 3.69e+05, 2.95e+05, 5.32e+05]\n",
      "[3.26e+03, 846, 1.93e+03, 9.39e+03, 9.18e+03, 741, 9.7e+03]\n",
      "[829, 0, 687, 654, 866, 755, 2.4e+03]\n",
      "[501, 698, 721, 745, 636, 707, 730]\n",
      "[716, 689, 697, 730, 703, 697, 692]\n"
     ]
    }
   ],
   "source": [
    "# 3000\n",
    "r3000=ak.unflatten(ak.Array([94416.1333333,69124.5333333,342985.166667,284224.333333,369482.433333,294774.833333,532093.166667]),counts=1)\n",
    "# 2950\n",
    "r2950=ak.unflatten(ak.Array([3256.9,845.633333333,1934.53333333,9392.83333333,9184.16666667,740.533333333,9702.3]),counts=1)\n",
    "# 2900\n",
    "r2900=ak.unflatten(ak.Array([828.533333333,0,687.1,653.6,865.7,754.733333333,2404.96666667]),counts=1)\n",
    "# HV0\n",
    "rhv0=ak.unflatten(ak.Array([500.933333333,697.866666667,721.066666667,744.966666667,636.233333333,706.633333333,730.266666667]),counts=1)\n",
    "# 2800\n",
    "r2800=ak.unflatten(ak.Array([715.666666667,689.3,697.133333333,730.0,702.866666667,697.0,692.43333333]),counts=1)\n",
    "# 2700\n",
    "r2700=ak.unflatten(ak.Array([721.366666667,661.766666667,679.766666667,700.966666667,688.2,675.1,676.2]),counts=1)\n",
    "rate=ak.concatenate([r3000,r2950,r2900,rhv0,r2800,r2700],axis=1)\n",
    "rate1=rate[:,0]\n",
    "rate2=rate[:,1]\n",
    "rate3=rate[:,2]\n",
    "rate4=rate[:,3]\n",
    "rate5=rate[:,4]\n",
    "rate6=rate[:,5]\n",
    "print(rate1)\n",
    "print(rate2)\n",
    "print(rate3)\n",
    "print(rate4)\n",
    "print(rate5)\n"
   ]
  },
  {
   "cell_type": "code",
   "execution_count": 6,
   "metadata": {},
   "outputs": [
    {
     "data": {
      "text/plain": [
       "<Array [721, 662, 680, 701, 688, 675, 676] type='7 * float64'>"
      ]
     },
     "execution_count": 6,
     "metadata": {},
     "output_type": "execute_result"
    }
   ],
   "source": [
    "\n",
    "rate[:,5]"
   ]
  },
  {
   "cell_type": "code",
   "execution_count": null,
   "metadata": {},
   "outputs": [],
   "source": []
  }
 ],
 "metadata": {
  "kernelspec": {
   "display_name": "higgsdna",
   "language": "python",
   "name": "python3"
  },
  "language_info": {
   "codemirror_mode": {
    "name": "ipython",
    "version": 3
   },
   "file_extension": ".py",
   "mimetype": "text/x-python",
   "name": "python",
   "nbconvert_exporter": "python",
   "pygments_lexer": "ipython3",
   "version": "3.9.19"
  }
 },
 "nbformat": 4,
 "nbformat_minor": 2
}
