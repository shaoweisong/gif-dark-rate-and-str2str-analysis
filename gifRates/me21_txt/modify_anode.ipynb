{
 "cells": [
  {
   "cell_type": "code",
   "execution_count": 2,
   "metadata": {},
   "outputs": [],
   "source": [
    "import numpy as np"
   ]
  },
  {
   "cell_type": "code",
   "execution_count": 4,
   "metadata": {},
   "outputs": [
    {
     "data": {
      "text/plain": [
       "[577.23,\n",
       " 621.6700000000001,\n",
       " 646.19,\n",
       " 657.24,\n",
       " 668.3700000000001,\n",
       " 681.9100000000001,\n",
       " 738.23,\n",
       " 756.45,\n",
       " 794.8800000000001,\n",
       " 794.8800000000001,\n",
       " 804.51,\n",
       " 810.53,\n",
       " 810.53,\n",
       " 812.84]"
      ]
     },
     "execution_count": 4,
     "metadata": {},
     "output_type": "execute_result"
    }
   ],
   "source": [
    "anodelistfrom12Apri2023=[]\n",
    "def avg_charge(S1,S2,S3):\n",
    "    #for Segment1, we take the average charge of the L1,L3,L4,L5\n",
    "    #for Segment2, we take the average charge of the L1,L3\n",
    "    #for Segment3, we take the average charge of the L1\n",
    "    anode=0.27*S1+0.33*S2+0.4*S3\n",
    "    return anode\n",
    "datalist=[\"12-APR-2023\",\"28-JUN-2023\",\"09-AUG-2023\",\"16-AUG-2023\",\"06-SEP-2023\",\"25-OCT-2023\",\"21-FEB-2024\",\"06-MAR-2024\",\"08-MAY-2024\",\"29-MAY-2024\",\"05-JUN-2024\",\"12-JUL-2024\",\"17-JUL-2024\",\"24-JUL-2024\"]\n",
    "S1_list=[227.73, 277.63, 304.05, 315.91, 328.27, 343.51, 406.03, 424.92, 466.52, 466.52, 477.21, 482.99, 482.99, 485.48]\n",
    "S2_list=[200.29, 248.03, 270.80, 281.43, 292.07, 305.58, 360.69, 377.90, 413.15, 413.15, 422.36, 428.43, 428.43, 430.59]\n",
    "S3_list=[199.56, 237.59, 262.27, 273.14, 283.83, 296.24, 349.38, 367.99, 406.90, 406.90, 416.16, 422.29, 422.29, 424.61]\n",
    "for i in range(len(datalist)):\n",
    "    anode=avg_charge(S1_list[i],S2_list[i],S3_list[i])\n",
    "    anode=round(anode,2)\n",
    "    anodelistfrom12Apri2023.append(anode)\n",
    "original_anode=577.23 \n",
    "accumulated_charge=577.23 -anodelistfrom12Apri2023[0]\n",
    "# the every element in the list anodelistfrom12Apri2023 need to add the accumulated_charge\n",
    "new_anodelist=[]\n",
    "for i in range(len(anodelistfrom12Apri2023)):\n",
    "    new_anode=anodelistfrom12Apri2023[i]+accumulated_charge\n",
    "    new_anodelist.append(new_anode)\n",
    "new_anodelist"
   ]
  },
  {
   "cell_type": "code",
   "execution_count": null,
   "metadata": {},
   "outputs": [],
   "source": []
  }
 ],
 "metadata": {
  "kernelspec": {
   "display_name": "higgsdna",
   "language": "python",
   "name": "python3"
  },
  "language_info": {
   "codemirror_mode": {
    "name": "ipython",
    "version": 3
   },
   "file_extension": ".py",
   "mimetype": "text/x-python",
   "name": "python",
   "nbconvert_exporter": "python",
   "pygments_lexer": "ipython3",
   "version": "3.9.19"
  }
 },
 "nbformat": 4,
 "nbformat_minor": 2
}
